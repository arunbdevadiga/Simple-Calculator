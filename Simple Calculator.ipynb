{
 "cells": [
  {
   "cell_type": "markdown",
   "metadata": {},
   "source": [
    "# Simple Calculator to perform Addition,Substraction,Multiplication,Division,Modulus and floor Division \n"
   ]
  },
  {
   "cell_type": "code",
   "execution_count": 2,
   "metadata": {},
   "outputs": [],
   "source": [
    "import numpy as np\n",
    "import pandas as pd\n"
   ]
  },
  {
   "cell_type": "code",
   "execution_count": 23,
   "metadata": {},
   "outputs": [],
   "source": [
    "def add(x,y):\n",
    "   return x+y\n",
    "def substract(x,y):\n",
    "   return x-y\n",
    "def multiple(x,y):\n",
    "   return x*y\n",
    "def divide(x,y):\n",
    "   return x/y\n",
    "def modulus(x,y):\n",
    "    return x%y\n",
    "def floordivision(x,y):\n",
    "    return x//y"
   ]
  },
  {
   "cell_type": "code",
   "execution_count": 28,
   "metadata": {},
   "outputs": [
    {
     "name": "stdout",
     "output_type": "stream",
     "text": [
      "select operation.\n",
      "1.add\n",
      "2.substract\n",
      "3.multiple\n",
      "4.divide\n",
      "5.modulus\n",
      "6.floordivision\n",
      "Enter a choice  1,2,3,4,5,6 :6\n",
      " Enter first number  :5\n",
      " Enter a second number  :2\n",
      "5.0 // 2.0 = 2.0\n"
     ]
    }
   ],
   "source": [
    "print(\"select operation.\")\n",
    "print(\"1.add\")\n",
    "print(\"2.substract\")\n",
    "print(\"3.multiple\")\n",
    "print(\"4.divide\")\n",
    "print(\"5.modulus\")\n",
    "print(\"6.floordivision\")\n",
    "\n",
    "choice = int(input(\"Enter a choice  1,2,3,4,5,6 :\"))\n",
    "\n",
    "num1= float(input(\" Enter first number  :\"))\n",
    "num2= float(input(\" Enter a second number  :\"))\n",
    "        \n",
    "if choice == 1:\n",
    "    print( num1, \"+\", num2, \"=\", add(num1,num2))\n",
    "elif choice == 2:\n",
    "    print( num1, \"-\", num2, \"=\", substract(num1,num2))\n",
    "elif choice == 3:\n",
    "    print( num1, \"*\", num2, \"=\", multiple(num1,num2))\n",
    "elif choice == 4:\n",
    "    print( num1, \"/\", num2, \"=\", divide(num1,num2))\n",
    "elif choice == 5:\n",
    "    print( num1, \"%\", num2, \"=\", modulus(num1,num2))\n",
    "elif choice == 6:\n",
    "    print( num1, \"//\", num2, \"=\", floordivision(num1,num2))\n",
    "else :\n",
    "    print( \" Invalid input\")"
   ]
  },
  {
   "cell_type": "code",
   "execution_count": null,
   "metadata": {},
   "outputs": [],
   "source": []
  },
  {
   "cell_type": "code",
   "execution_count": null,
   "metadata": {},
   "outputs": [],
   "source": []
  },
  {
   "cell_type": "code",
   "execution_count": null,
   "metadata": {},
   "outputs": [],
   "source": []
  },
  {
   "cell_type": "code",
   "execution_count": null,
   "metadata": {},
   "outputs": [],
   "source": []
  }
 ],
 "metadata": {
  "kernelspec": {
   "display_name": "Python 3",
   "language": "python",
   "name": "python3"
  },
  "language_info": {
   "codemirror_mode": {
    "name": "ipython",
    "version": 3
   },
   "file_extension": ".py",
   "mimetype": "text/x-python",
   "name": "python",
   "nbconvert_exporter": "python",
   "pygments_lexer": "ipython3",
   "version": "3.8.5"
  }
 },
 "nbformat": 4,
 "nbformat_minor": 4
}
